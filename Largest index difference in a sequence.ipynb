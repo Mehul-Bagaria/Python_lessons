{
 "cells": [
  {
   "cell_type": "markdown",
   "id": "bd95f0f3",
   "metadata": {},
   "source": [
    "## Largest index difference in a sequence\n",
    "A sequence or arrays of numbers are defined in an ordered manner having indexing. The maximum of difference of indexing of two numbers such that second number(indexing k) is larger than the first number(indexing j) and the indexing $j < k$. The problem can be formulated as :  \n",
    "**Objective** : Maximum of  $k - j$  \n",
    "**Subjected to** : $k > j$ and $arr[k] > arr[j]$ \n",
    "\n",
    "For example, let's consider the array = $[ 1, 2, 0, 4]$ , here the largest difference of indexing such that $array[k] > array[j]$, will be between number $4~(indexing~k = 3)$ and number $1~(indexing~j =0)$.\n",
    "So, the result is $k-j~i.e.~3-0 = 0$"
   ]
  },
  {
   "cell_type": "code",
   "execution_count": 3,
   "id": "ecb52b20",
   "metadata": {},
   "outputs": [],
   "source": [
    "#Defining the function\n",
    "def diffmax(arr):\n",
    "    Dif=[]\n",
    "    for j in range(len(arr)):\n",
    "        for k in range(len(arr)):\n",
    "            if arr[j] < arr[k]:\n",
    "                if j <  k:\n",
    "                    diff = k-j\n",
    "                    Dif.append(diff)\n",
    "                    \n",
    "                else : continue                \n",
    "            else: continue\n",
    "                \n",
    "    result = max(Dif)                    \n",
    "    return result"
   ]
  },
  {
   "cell_type": "code",
   "execution_count": 4,
   "id": "79793ce7",
   "metadata": {},
   "outputs": [
    {
     "data": {
      "text/plain": [
       "3"
      ]
     },
     "execution_count": 4,
     "metadata": {},
     "output_type": "execute_result"
    }
   ],
   "source": [
    "#Input array\n",
    "arr = [1,2,0,4]\n",
    "\n",
    "#Output\n",
    "diffmax(arr)"
   ]
  },
  {
   "cell_type": "code",
   "execution_count": null,
   "id": "8a9b1f5d",
   "metadata": {},
   "outputs": [],
   "source": []
  }
 ],
 "metadata": {
  "kernelspec": {
   "display_name": "Python 3 (ipykernel)",
   "language": "python",
   "name": "python3"
  },
  "language_info": {
   "codemirror_mode": {
    "name": "ipython",
    "version": 3
   },
   "file_extension": ".py",
   "mimetype": "text/x-python",
   "name": "python",
   "nbconvert_exporter": "python",
   "pygments_lexer": "ipython3",
   "version": "3.8.10"
  }
 },
 "nbformat": 4,
 "nbformat_minor": 5
}
