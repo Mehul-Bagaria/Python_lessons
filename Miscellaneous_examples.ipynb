{
 "cells": [
  {
   "cell_type": "markdown",
   "id": "f0f76ca7",
   "metadata": {},
   "source": [
    "## Miscellaneous examples"
   ]
  },
  {
   "cell_type": "markdown",
   "id": "227816ff",
   "metadata": {},
   "source": [
    "### 1. Print final velocity using input in single line\n",
    "Initial velocity **u**, acceleration **a**, and time **t** are taken as input and final velocity **v** is to be printed using Newton's law of motion.  \n",
    "**Example :-** Input = 1 2 3  \n",
    "           Output = 7\n",
    "\n",
    "The input will be taken in single line and seperated by space.  \n",
    "*This code is used to describe single line input methods*  \n",
    "In Python3.x, multiple inputs can be taken using the command `a,b,c = input.split()`, this will take three inputs and assign them in variables a, b, c.  The `input()` function explicitly converts the input you give to type string.  \n",
    "\n",
    "The `split()` method splits a string into a list.  \n",
    "Syntax = `string.split(separator, maxsplit)` , seperators can be `\",\"` ,  `\"#\"` , `\" \"` etc."
   ]
  },
  {
   "cell_type": "code",
   "execution_count": 14,
   "id": "65c31649",
   "metadata": {},
   "outputs": [
    {
     "name": "stdout",
     "output_type": "stream",
     "text": [
      "Enter the initial velocity, acceleration and time : 1.5 2.5 3\n",
      "Final velocity is :  9.0\n"
     ]
    }
   ],
   "source": [
    "#Taking inputs \n",
    "u,a,t = input(\"Enter the initial velocity, acceleration and time : \").split()\n",
    "\n",
    "#Converting the input string into floats\n",
    "u=float(u)\n",
    "a=float(a)\n",
    "t=float(t)\n",
    "\n",
    "#Defining the final velocity\n",
    "v = u + a * t \n",
    "\n",
    "#Print results\n",
    "print(\"Final velocity is : \",v)\n"
   ]
  },
  {
   "cell_type": "code",
   "execution_count": null,
   "id": "7f84c733",
   "metadata": {},
   "outputs": [],
   "source": []
  }
 ],
 "metadata": {
  "kernelspec": {
   "display_name": "Python 3",
   "language": "python",
   "name": "python3"
  },
  "language_info": {
   "codemirror_mode": {
    "name": "ipython",
    "version": 3
   },
   "file_extension": ".py",
   "mimetype": "text/x-python",
   "name": "python",
   "nbconvert_exporter": "python",
   "pygments_lexer": "ipython3",
   "version": "3.8.8"
  }
 },
 "nbformat": 4,
 "nbformat_minor": 5
}
