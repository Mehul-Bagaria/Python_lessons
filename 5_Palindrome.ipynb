{
 "cells": [
  {
   "cell_type": "markdown",
   "id": "3c28d3fb",
   "metadata": {},
   "source": [
    "## Palindrome \n",
    "A palindromic sequence or palindrome is a sequence that remains same whent its order is reversed.  \n",
    "Example :  \n",
    "* $abba$\n",
    "* $1221$\n",
    "* $abc1cba$\n",
    "    \n"
   ]
  },
  {
   "cell_type": "markdown",
   "id": "c59f9e51",
   "metadata": {},
   "source": [
    "## Method 1"
   ]
  },
  {
   "cell_type": "code",
   "execution_count": 60,
   "id": "c97e12be",
   "metadata": {},
   "outputs": [],
   "source": [
    "def palindrome():\n",
    "    # Take input as string\n",
    "    string = input(\"Enter the sequence : \")\n",
    "    \n",
    "    # Remove white spaces from the string\n",
    "    test_string = string.replace(\" \", \"\")\n",
    "    # Split the string into two halves\n",
    "    s1 = test_string[:len(test_string)//2]\n",
    "    s2 = test_string[len(test_string)//2 if len(test_string)%2 ==0 \n",
    "                    else len(test_string)//2 + 1 :]\n",
    "    \n",
    "    # Reverse the string's second half\n",
    "    rs2 = s2[::-1]\n",
    "\n",
    "    # Check if it is palindrome sequence\n",
    "    if s1 == rs2:\n",
    "        print('Yes it is a Palindrome sequence')\n",
    "    \n",
    "    else:\n",
    "        print('No it is not a Palindrome sequence')"
   ]
  },
  {
   "cell_type": "code",
   "execution_count": 61,
   "id": "89a9305e",
   "metadata": {},
   "outputs": [
    {
     "name": "stdout",
     "output_type": "stream",
     "text": [
      "Enter the sequence : \n",
      "Yes it is a Palindrome sequence\n"
     ]
    }
   ],
   "source": [
    "palindrome()"
   ]
  },
  {
   "cell_type": "markdown",
   "id": "43b39106",
   "metadata": {},
   "source": [
    "## Method 2"
   ]
  },
  {
   "cell_type": "code",
   "execution_count": 71,
   "id": "54cc2e31",
   "metadata": {},
   "outputs": [],
   "source": [
    "def isPalindrom():\n",
    "    # Take input as string\n",
    "    string = input(\"Enter the sequence : \")\n",
    "    \n",
    "    # Remove the white spaces from the string\n",
    "    string = string.replace(\" \", \"\")\n",
    "    \n",
    "    # Check if the sequence matches when reversed\n",
    "    if string == string[::-1]:\n",
    "        print('Yes it is a Palindrome sequence')\n",
    "        \n",
    "    else :\n",
    "        print('No it is not a Palindrome sequence')"
   ]
  },
  {
   "cell_type": "code",
   "execution_count": 73,
   "id": "e7448574",
   "metadata": {},
   "outputs": [
    {
     "name": "stdout",
     "output_type": "stream",
     "text": [
      "Enter the sequence : ab bcd\n",
      "No it is not a Palindrome sequence\n"
     ]
    }
   ],
   "source": [
    "isPalindrom()"
   ]
  },
  {
   "cell_type": "code",
   "execution_count": null,
   "id": "fac0cc23",
   "metadata": {},
   "outputs": [],
   "source": []
  }
 ],
 "metadata": {
  "kernelspec": {
   "display_name": "Python 3",
   "language": "python",
   "name": "python3"
  },
  "language_info": {
   "codemirror_mode": {
    "name": "ipython",
    "version": 3
   },
   "file_extension": ".py",
   "mimetype": "text/x-python",
   "name": "python",
   "nbconvert_exporter": "python",
   "pygments_lexer": "ipython3",
   "version": "3.8.8"
  }
 },
 "nbformat": 4,
 "nbformat_minor": 5
}
