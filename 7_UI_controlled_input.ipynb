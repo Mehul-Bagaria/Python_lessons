{
 "cells": [
  {
   "cell_type": "markdown",
   "id": "b1761fc9",
   "metadata": {},
   "source": [
    "## Jupyter Widgets\n",
    "`ipywidgets` **module** provide the functionality to include interactive widgets in the form of **buttons**, **sliders**, **checkboxes**, etc.\n",
    "The widgets can be used to display output or take inputs.\n",
    "\n",
    "**References** - \n",
    "* [Jupyter Widgets\n",
    "](https://ipywidgets.readthedocs.io/en/stable/index.html)\n",
    "* [Buttons](https://www.geeksforgeeks.org/how-to-create-buttons-in-jupyter/)"
   ]
  },
  {
   "cell_type": "markdown",
   "id": "8da30f8d",
   "metadata": {},
   "source": [
    "### Using interact\n",
    "`interact` function creates user interface (UI) for controlling the code and data in realtime.  \n",
    "In the most basic level, `interact` function generates the UI controls for function arguments. And then call the functions whenever you manipulate the arguments using the UI.  \n",
    "To use `interact`, you need to define the function first. That function, will be called by `interact`.\n",
    "\n",
    "*Syntex:* `interact(f, x = a)`, where `f` is the function having argument `x`.  \n",
    "The slider generated will have limit -a to 3a.\n",
    "\n",
    "*Syntex:* `interact(f, x=(min, max, steps))`\n"
   ]
  },
  {
   "cell_type": "code",
   "execution_count": 1,
   "id": "019b0cec",
   "metadata": {},
   "outputs": [],
   "source": [
    "from ipywidgets import interact, interactive, fixed, interact_manual\n",
    "import ipywidgets as widgets"
   ]
  },
  {
   "cell_type": "markdown",
   "id": "bdb73fab",
   "metadata": {},
   "source": [
    "**Simple function**"
   ]
  },
  {
   "cell_type": "code",
   "execution_count": 2,
   "id": "61dfdcda",
   "metadata": {},
   "outputs": [],
   "source": [
    "def f(x):\n",
    "    return x**2"
   ]
  },
  {
   "cell_type": "code",
   "execution_count": 3,
   "id": "63b1f012",
   "metadata": {},
   "outputs": [
    {
     "data": {
      "application/vnd.jupyter.widget-view+json": {
       "model_id": "11c952ff12e74669aef1abb438a5801f",
       "version_major": 2,
       "version_minor": 0
      },
      "text/plain": [
       "interactive(children=(IntSlider(value=15, description='x', max=45, min=-15), Output()), _dom_classes=('widget-…"
      ]
     },
     "metadata": {},
     "output_type": "display_data"
    },
    {
     "data": {
      "text/plain": [
       "<function __main__.f(x)>"
      ]
     },
     "execution_count": 3,
     "metadata": {},
     "output_type": "execute_result"
    }
   ],
   "source": [
    "# Interact function with arguments - function (f) and f's argument x.\n",
    "interact(f, x = 15)"
   ]
  },
  {
   "cell_type": "markdown",
   "id": "dbe17170",
   "metadata": {},
   "source": [
    "**Ploting polynomial function**"
   ]
  },
  {
   "cell_type": "code",
   "execution_count": 4,
   "id": "9c6af89d",
   "metadata": {},
   "outputs": [],
   "source": [
    "import matplotlib.pyplot as plt\n",
    "import numpy as np"
   ]
  },
  {
   "cell_type": "code",
   "execution_count": 5,
   "id": "85e4b18c",
   "metadata": {},
   "outputs": [],
   "source": [
    "# Define function with argument as polynomial order\n",
    "def poly_f(m):\n",
    "    x = np.linspace(-10,10,100)\n",
    "    y = x**m\n",
    "    plt.plot(x,y, '-b', label = 'y=x^'+ str(m))\n",
    "    plt.grid()\n",
    "    plt.legend()"
   ]
  },
  {
   "cell_type": "code",
   "execution_count": 6,
   "id": "fe33cf7e",
   "metadata": {},
   "outputs": [
    {
     "data": {
      "application/vnd.jupyter.widget-view+json": {
       "model_id": "57b4379f4d6b41b18d884c7a31195df1",
       "version_major": 2,
       "version_minor": 0
      },
      "text/plain": [
       "interactive(children=(IntSlider(value=0, description='m', max=4, min=-4), Output()), _dom_classes=('widget-int…"
      ]
     },
     "metadata": {},
     "output_type": "display_data"
    },
    {
     "data": {
      "text/plain": [
       "<function __main__.poly_f(m)>"
      ]
     },
     "execution_count": 6,
     "metadata": {},
     "output_type": "execute_result"
    }
   ],
   "source": [
    "# Interact function with arguments - function (f) and f's argument x.\n",
    "interact(poly_f, m =(-4,4))"
   ]
  },
  {
   "cell_type": "markdown",
   "id": "0fac26c7",
   "metadata": {},
   "source": [
    "**List values**"
   ]
  },
  {
   "cell_type": "code",
   "execution_count": 7,
   "id": "e03d1ccb",
   "metadata": {},
   "outputs": [],
   "source": [
    "def f_list(x):\n",
    "    X = [\"Zero\", \"One\", \"Two\", \"Three\"]\n",
    "    return X[x]"
   ]
  },
  {
   "cell_type": "code",
   "execution_count": 8,
   "id": "b4be240a",
   "metadata": {},
   "outputs": [
    {
     "data": {
      "application/vnd.jupyter.widget-view+json": {
       "model_id": "31904f8072414d6792cac4437ef4b3d0",
       "version_major": 2,
       "version_minor": 0
      },
      "text/plain": [
       "interactive(children=(IntSlider(value=1, description='x', max=3), Output()), _dom_classes=('widget-interact',)…"
      ]
     },
     "metadata": {},
     "output_type": "display_data"
    },
    {
     "data": {
      "text/plain": [
       "<function __main__.f_list(x)>"
      ]
     },
     "execution_count": 8,
     "metadata": {},
     "output_type": "execute_result"
    }
   ],
   "source": [
    "interact(f_list, x = (0,3))"
   ]
  },
  {
   "cell_type": "code",
   "execution_count": null,
   "id": "7f8b7e87",
   "metadata": {},
   "outputs": [],
   "source": []
  }
 ],
 "metadata": {
  "kernelspec": {
   "display_name": "Python 3",
   "language": "python",
   "name": "python3"
  },
  "language_info": {
   "codemirror_mode": {
    "name": "ipython",
    "version": 3
   },
   "file_extension": ".py",
   "mimetype": "text/x-python",
   "name": "python",
   "nbconvert_exporter": "python",
   "pygments_lexer": "ipython3",
   "version": "3.8.8"
  }
 },
 "nbformat": 4,
 "nbformat_minor": 5
}
