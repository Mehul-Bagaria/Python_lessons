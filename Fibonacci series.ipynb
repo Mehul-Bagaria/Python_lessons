{
 "cells": [
  {
   "cell_type": "markdown",
   "id": "461d8fbe",
   "metadata": {},
   "source": [
    "## Fibonacci series\n",
    "Fibonacci series or number $F_n$ is a sequence of number which is sum of two numbers precceding it.  \n",
    "$ F_n = F_{n-1} + F_{n-2}$  \n",
    "like -\n",
    "* $1,1,2,3,5,8,11 ...$\n",
    "* $1,5,6,11,17,28,45 ...$\n",
    "\n",
    "*Here we are taking first two numbers as input*"
   ]
  },
  {
   "cell_type": "code",
   "execution_count": 1,
   "id": "74110d88",
   "metadata": {},
   "outputs": [
    {
     "name": "stdout",
     "output_type": "stream",
     "text": [
      "Enter the first number : 3\n",
      "Enter the second number : 5\n",
      "Numbers in the Sequence : 8\n",
      "3\n",
      "5\n",
      "8\n",
      "13\n",
      "21\n",
      "34\n",
      "55\n",
      "89\n"
     ]
    }
   ],
   "source": [
    "x = input(\"Enter the first number : \")\n",
    "y = input(\"Enter the second number : \")\n",
    "a = input(\"Numbers in the Sequence : \")\n",
    "\n",
    "x= int(x)\n",
    "y=int(y)\n",
    "a=int(a)\n",
    "\n",
    "#Prinitng the first two numbers\n",
    "\n",
    "#Iterating and printing the series\n",
    "if a>=3:\n",
    "    print(x)\n",
    "    print(y)\n",
    "    for i in range(a -2):\n",
    "        z=x+y\n",
    "        print(z)\n",
    "        x=y\n",
    "        y=z\n",
    "        \n",
    "else:\n",
    "    print(\"Error !! Numbers in the sequence can't be less than 3\")\n"
   ]
  },
  {
   "cell_type": "code",
   "execution_count": null,
   "id": "60413e5c",
   "metadata": {},
   "outputs": [],
   "source": []
  }
 ],
 "metadata": {
  "kernelspec": {
   "display_name": "Python 3",
   "language": "python",
   "name": "python3"
  },
  "language_info": {
   "codemirror_mode": {
    "name": "ipython",
    "version": 3
   },
   "file_extension": ".py",
   "mimetype": "text/x-python",
   "name": "python",
   "nbconvert_exporter": "python",
   "pygments_lexer": "ipython3",
   "version": "3.8.8"
  }
 },
 "nbformat": 4,
 "nbformat_minor": 5
}
