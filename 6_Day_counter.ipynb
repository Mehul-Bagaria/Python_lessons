{
 "cells": [
  {
   "cell_type": "markdown",
   "id": "5ed4bfad",
   "metadata": {},
   "source": [
    "## Count the number of weekday in particular month of the year\n",
    "Count how many particular weekday is present in particular month of a year.  \n",
    "Example : Count Monday in the July of 2022\n",
    "\n",
    "Reference - [Calendar module examples](https://www.geeksforgeeks.org/python-calendar-module/) & [Calendar module](https://docs.python.org/3/library/calendar.html)"
   ]
  },
  {
   "cell_type": "markdown",
   "id": "4e0cfd81",
   "metadata": {},
   "source": [
    "## Without error handling"
   ]
  },
  {
   "cell_type": "code",
   "execution_count": 1,
   "id": "366973bd",
   "metadata": {},
   "outputs": [
    {
     "name": "stdout",
     "output_type": "stream",
     "text": [
      "\n",
      "Enter the year in yyyy format : 2022\n",
      "Enter the month in mm format : 2\n",
      "The weekday code is as follows : \n",
      "0 is for Monday\n",
      "1 is for Tuesday\n",
      "2 is for Wednesday\n",
      "3 is for Thursday\n",
      "4 is for Friday\n",
      "5 is for Saturday\n",
      "6 is for Sunday\n",
      "Enter the weekday number : 2\n",
      "\n",
      "The total number of  Wednesday  are :  5\n",
      "\n",
      "The month calender for entered month and year is :\n",
      "    February 2022\n",
      "Mo Tu We Th Fr Sa Su\n",
      "    1  2  3  4  5  6\n",
      " 7  8  9 10 11 12 13\n",
      "14 15 16 17 18 19 20\n",
      "21 22 23 24 25 26 27\n",
      "28\n",
      "\n"
     ]
    }
   ],
   "source": [
    "import calendar\n",
    "    \n",
    "# Input the year and month\n",
    "year  = input(\"\\nEnter the year in yyyy format : \")\n",
    "month = input(\"Enter the month in mm format : \")\n",
    "\n",
    "# Defining the weekday code \n",
    "week = [\"Monday\", \"Tuesday\", \"Wednesday\", \"Thursday\", \"Friday\", \"Saturday\", \"Sunday\"]\n",
    "print(\"The weekday code is as follows : \")\n",
    "for i in range(7):\n",
    "    print(i, \"is for\", week[i])\n",
    "\n",
    "# Input the day code\n",
    "day = input(\"Enter the weekday number : \")\n",
    "\n",
    "# Convert the str data into integers\n",
    "year = int(year)\n",
    "month = int(month)\n",
    "day = int(day)\n",
    "\n",
    "# Assigning matrix representing a month’s calendar\n",
    "weeklist = calendar.monthcalendar(year, month)\n",
    "\n",
    "# Count the number of day\n",
    "count = 0\n",
    "for i in weeklist:\n",
    "    if week[day] != 0:\n",
    "        count = count+1\n",
    "\n",
    "\n",
    "# Print the solution\n",
    "print(\"\\nThe total number of \",week[day], \" are : \", count)\n",
    "\n",
    "\n",
    "print(\"\\nThe month calender for entered month and year is :\\n\",calendar.month(year, month))"
   ]
  },
  {
   "cell_type": "markdown",
   "id": "41b894c0",
   "metadata": {},
   "source": [
    "## With error handling"
   ]
  },
  {
   "cell_type": "code",
   "execution_count": 2,
   "id": "dc4cccfd",
   "metadata": {},
   "outputs": [],
   "source": [
    "# Define the counter function\n",
    "def counter(year,month,day):\n",
    "    try:\n",
    "        # Convert the str data into integers\n",
    "        year = int(year)\n",
    "        month = int(month)\n",
    "        day = int(day)\n",
    "        \n",
    "        # Assigning matrix representing a month’s calendar\n",
    "        weeklist = calendar.monthcalendar(year, month)\n",
    "        \n",
    "        # Count the number of day\n",
    "        count = 0\n",
    "        for i in weeklist:\n",
    "            if week[day] != 0:\n",
    "                count = count+1\n",
    "        # Print the solution\n",
    "        print(\"\\nThe total number of \",week[day], \" are : \", count)\n",
    "        print(\"\\nThe month calender for entered month and year is :\\n\",calendar.month(year, month))\n",
    "\n",
    "    except Exception as e:\n",
    "        print(e)\n",
    "        print(\"Sorry, that's not valid input\")\n"
   ]
  },
  {
   "cell_type": "code",
   "execution_count": 3,
   "id": "b502b4c3",
   "metadata": {},
   "outputs": [
    {
     "name": "stdout",
     "output_type": "stream",
     "text": [
      "\n",
      "Enter the year in yyyy format : a\n",
      "Enter the month in mm format : \n",
      "The weekday code is as follows : \n",
      "0 is for Monday\n",
      "1 is for Tuesday\n",
      "2 is for Wednesday\n",
      "3 is for Thursday\n",
      "4 is for Friday\n",
      "5 is for Saturday\n",
      "6 is for Sunday\n",
      "Enter the weekday number : a\n",
      "invalid literal for int() with base 10: 'a'\n",
      "Sorry, that's not valid input\n"
     ]
    }
   ],
   "source": [
    "# Input the year and month\n",
    "year  = input(\"\\nEnter the year in yyyy format : \")\n",
    "month = input(\"Enter the month in mm format : \")\n",
    "\n",
    "# Defining the weekday code \n",
    "week = [\"Monday\", \"Tuesday\", \"Wednesday\", \"Thursday\", \"Friday\", \"Saturday\", \"Sunday\"]\n",
    "print(\"The weekday code is as follows : \")\n",
    "for i in range(7):\n",
    "    print(i, \"is for\", week[i])\n",
    "\n",
    "# Input the day code\n",
    "day = input(\"Enter the weekday number : \")\n",
    "\n",
    "counter(year,month,day)"
   ]
  },
  {
   "cell_type": "code",
   "execution_count": null,
   "id": "d82f745b",
   "metadata": {},
   "outputs": [],
   "source": []
  }
 ],
 "metadata": {
  "kernelspec": {
   "display_name": "Python 3",
   "language": "python",
   "name": "python3"
  },
  "language_info": {
   "codemirror_mode": {
    "name": "ipython",
    "version": 3
   },
   "file_extension": ".py",
   "mimetype": "text/x-python",
   "name": "python",
   "nbconvert_exporter": "python",
   "pygments_lexer": "ipython3",
   "version": "3.8.8"
  }
 },
 "nbformat": 4,
 "nbformat_minor": 5
}
