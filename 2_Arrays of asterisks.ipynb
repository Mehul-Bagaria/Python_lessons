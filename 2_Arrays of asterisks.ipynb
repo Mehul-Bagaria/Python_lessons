{
 "cells": [
  {
   "cell_type": "markdown",
   "id": "ea542b44",
   "metadata": {},
   "source": [
    "## Arrays of asterisk \n",
    "\n",
    "In this notebook, we will see how to print various configuration of asterisk $*$ using **for loops** and **conditional statmenets if-else** .   \n",
    "Following configurations have been generated -  \n",
    "\n",
    "![image_asterisk](images/asterisk_pattern.png)\n"
   ]
  },
  {
   "cell_type": "markdown",
   "id": "a81be20f",
   "metadata": {},
   "source": [
    "### Pattern 1"
   ]
  },
  {
   "cell_type": "code",
   "execution_count": 1,
   "id": "65600275",
   "metadata": {},
   "outputs": [
    {
     "name": "stdout",
     "output_type": "stream",
     "text": [
      "*\n",
      "* *\n",
      "* * *\n",
      "* * * *\n",
      "* * * * *\n"
     ]
    }
   ],
   "source": [
    "x=[]\n",
    "for i in range(5):\n",
    "    x.append('*')\n",
    "    print(*x)"
   ]
  },
  {
   "cell_type": "markdown",
   "id": "5797a089",
   "metadata": {},
   "source": [
    "### Pattern 2"
   ]
  },
  {
   "cell_type": "code",
   "execution_count": 2,
   "id": "62575564",
   "metadata": {},
   "outputs": [
    {
     "name": "stdout",
     "output_type": "stream",
     "text": [
      "        *\n",
      "      * *\n",
      "    * * *\n",
      "  * * * *\n",
      "* * * * *\n"
     ]
    }
   ],
   "source": [
    "x=[]\n",
    "for i in range(1,6):\n",
    "    x.append(' ')\n",
    "    \n",
    "for i in range(1,6):\n",
    "    x.pop(0)\n",
    "    x.append('*')\n",
    "    print(*x)"
   ]
  },
  {
   "cell_type": "markdown",
   "id": "ac6c0eb6",
   "metadata": {},
   "source": [
    "### Pattern 3"
   ]
  },
  {
   "cell_type": "code",
   "execution_count": 3,
   "id": "eafb86db",
   "metadata": {},
   "outputs": [
    {
     "name": "stdout",
     "output_type": "stream",
     "text": [
      "* * * * *\n",
      "* * * *\n",
      "* * *\n",
      "* *\n",
      "*\n"
     ]
    }
   ],
   "source": [
    "x=[]\n",
    "for i in range(6):\n",
    "    x.append('*')\n",
    "for i in range(5):\n",
    "    x.pop(0)\n",
    "    print(*x)"
   ]
  },
  {
   "cell_type": "markdown",
   "id": "fc918986",
   "metadata": {},
   "source": [
    "### Pattern 4"
   ]
  },
  {
   "cell_type": "code",
   "execution_count": 4,
   "id": "d0aeb1f3",
   "metadata": {},
   "outputs": [
    {
     "name": "stdout",
     "output_type": "stream",
     "text": [
      "* * * * *\n",
      "  * * * *\n",
      "    * * *\n",
      "      * *\n",
      "        *\n"
     ]
    }
   ],
   "source": [
    "x=[]\n",
    "for i in range(1,6):\n",
    "    x.append('*')\n",
    "\n",
    "    \n",
    "for i in range(1,6):\n",
    "    print(*x)\n",
    "    x.insert(0,' ')\n",
    "    x.pop(5)"
   ]
  },
  {
   "cell_type": "markdown",
   "id": "4e3161a5",
   "metadata": {},
   "source": [
    "### Pattern 5"
   ]
  },
  {
   "cell_type": "code",
   "execution_count": 5,
   "id": "e501e063",
   "metadata": {},
   "outputs": [
    {
     "name": "stdout",
     "output_type": "stream",
     "text": [
      "        *        \n",
      "      * * *      \n",
      "    * * * * *    \n",
      "  * * * * * * *  \n",
      "* * * * * * * * *\n"
     ]
    }
   ],
   "source": [
    "x=[]\n",
    "for i in range(9):\n",
    "    if i !=4:\n",
    "        x.append(' ')\n",
    "    else:\n",
    "        x.append('*')\n",
    "for i in range(0,5):\n",
    "    x.pop(4-i)\n",
    "    x.insert(4-i,'*')\n",
    "    x.pop(4+i)\n",
    "    x.insert(4+i,'*')\n",
    "    print(*x) "
   ]
  },
  {
   "cell_type": "markdown",
   "id": "f6aa267a",
   "metadata": {},
   "source": [
    "### Pattern 6"
   ]
  },
  {
   "cell_type": "code",
   "execution_count": 6,
   "id": "78525280",
   "metadata": {},
   "outputs": [
    {
     "name": "stdout",
     "output_type": "stream",
     "text": [
      "* * * * * * * * *\n",
      "  * * * * * * *  \n",
      "    * * * * *    \n",
      "      * * *      \n",
      "        *        \n"
     ]
    }
   ],
   "source": [
    "x=[]\n",
    "for i in range(9):\n",
    "    x.append('*')\n",
    "    \n",
    "\n",
    "for i in range(5):\n",
    "    print(*x)\n",
    "    x.pop(i)\n",
    "    x.insert(i,' ')\n",
    "    x.pop(8-i)\n",
    "    x.insert(8-i,' ')\n",
    "    "
   ]
  },
  {
   "cell_type": "markdown",
   "id": "c00d3db5",
   "metadata": {},
   "source": [
    "### Pattern 7"
   ]
  },
  {
   "cell_type": "code",
   "execution_count": 7,
   "id": "3a70f2b2",
   "metadata": {},
   "outputs": [
    {
     "name": "stdout",
     "output_type": "stream",
     "text": [
      "        *        \n",
      "      * * *      \n",
      "    * * * * *    \n",
      "  * * * * * * *  \n",
      "* * * * * * * * *\n",
      "  * * * * * * *  \n",
      "    * * * * *    \n",
      "      * * *      \n",
      "        *        \n",
      "                 \n"
     ]
    }
   ],
   "source": [
    "x=[]\n",
    "for i in range(9):\n",
    "    if i !=4:\n",
    "        x.append(' ')\n",
    "    else:\n",
    "        x.append('*')\n",
    "for i in range(0,5):\n",
    "    x.pop(4-i)\n",
    "    x.insert(4-i,'*')\n",
    "    x.pop(4+i)\n",
    "    x.insert(4+i,'*')\n",
    "    print(*x)\n",
    "x=[]\n",
    "for i in range(9):\n",
    "    x.append('*')\n",
    "    \n",
    "\n",
    "for i in range(5):\n",
    "    x.pop(i)\n",
    "    x.insert(i,' ')\n",
    "    x.pop(8-i)\n",
    "    x.insert(8-i,' ')\n",
    "    print(*x)"
   ]
  },
  {
   "cell_type": "markdown",
   "id": "56199666",
   "metadata": {},
   "source": [
    "### Pattern 8"
   ]
  },
  {
   "cell_type": "code",
   "execution_count": 8,
   "id": "dd712b31",
   "metadata": {},
   "outputs": [
    {
     "name": "stdout",
     "output_type": "stream",
     "text": [
      "*\n",
      "* *\n",
      "* * *\n",
      "* * * *\n",
      "* * * * *\n",
      "* * * *\n",
      "* * *\n",
      "* *\n",
      "*\n"
     ]
    }
   ],
   "source": [
    "x=[]\n",
    "for i in range(9):\n",
    "    if i<5:\n",
    "        x.append('*')\n",
    "        print(*x)\n",
    "    else:\n",
    "        i=i-5\n",
    "        x.pop(0)\n",
    "        print(*x)\n"
   ]
  },
  {
   "cell_type": "markdown",
   "id": "da10f809",
   "metadata": {},
   "source": [
    "### Pattern 9"
   ]
  },
  {
   "cell_type": "code",
   "execution_count": 9,
   "id": "905d5aed",
   "metadata": {},
   "outputs": [
    {
     "name": "stdout",
     "output_type": "stream",
     "text": [
      "        *\n",
      "      * *\n",
      "    * * *\n",
      "  * * * *\n",
      "* * * * *\n",
      "  * * * *\n",
      "    * * *\n",
      "      * *\n",
      "        *\n"
     ]
    }
   ],
   "source": [
    "x=[]\n",
    "for i in range(5):\n",
    "    x.append(' ')\n",
    "    \n",
    "for i in range(9):\n",
    "    if i<=4:\n",
    "        x.pop(0)\n",
    "        x.insert(4,'*')\n",
    "        print(*x)\n",
    "        \n",
    "    else:\n",
    "        i=i-5\n",
    "        x.pop(i)\n",
    "        x.insert(0,' ')\n",
    "        print(*x)\n"
   ]
  },
  {
   "cell_type": "markdown",
   "id": "bf23a0ba",
   "metadata": {},
   "source": [
    "### Pattern 10"
   ]
  },
  {
   "cell_type": "code",
   "execution_count": 10,
   "id": "e8215a35",
   "metadata": {},
   "outputs": [
    {
     "name": "stdout",
     "output_type": "stream",
     "text": [
      "        * * * *\n",
      "      * * * *\n",
      "    * * * *\n",
      "  * * * *\n",
      "* * * *\n"
     ]
    }
   ],
   "source": [
    "x=[]\n",
    "for i in range(8):\n",
    "    if i<4:\n",
    "        x.append(' ')\n",
    "    else:\n",
    "        x.append('*')\n",
    "print(*x)\n",
    "\n",
    "for i in range(4):\n",
    "    if i<4:\n",
    "        x.pop(0)\n",
    "        print(*x)\n",
    "    "
   ]
  },
  {
   "cell_type": "markdown",
   "id": "559ded82",
   "metadata": {},
   "source": [
    "### Pattern 11"
   ]
  },
  {
   "cell_type": "code",
   "execution_count": 11,
   "id": "2a1b5ccd",
   "metadata": {},
   "outputs": [
    {
     "name": "stdout",
     "output_type": "stream",
     "text": [
      "  * * * * *\n",
      "    * * * * *\n",
      "      * * * * *\n",
      "        * * * * *\n",
      "          * * * * *\n"
     ]
    }
   ],
   "source": [
    "x=[]\n",
    "for i in range(5):\n",
    "    x.append('*')\n",
    "    \n",
    "for i in range(5):\n",
    "    x.insert(0,' ')\n",
    "    print(*x)"
   ]
  },
  {
   "cell_type": "markdown",
   "id": "2f2c2a2a",
   "metadata": {},
   "source": [
    "### Pattern 12"
   ]
  },
  {
   "cell_type": "code",
   "execution_count": 12,
   "id": "0e4824e5",
   "metadata": {},
   "outputs": [
    {
     "name": "stdout",
     "output_type": "stream",
     "text": [
      "* * * * *\n",
      "* * * *\n",
      "* * *\n",
      "* *\n",
      "*\n",
      "*\n",
      "* *\n",
      "* * *\n",
      "* * * *\n",
      "* * * * *\n"
     ]
    }
   ],
   "source": [
    "x=[]\n",
    "for i in range(5):\n",
    "    x.append('*')\n",
    "    \n",
    "for i in range(10):\n",
    "    if i<5:\n",
    "        print(*x)\n",
    "        x.pop(4-i)\n",
    "    else:\n",
    "        x.append('*')\n",
    "        print(*x)"
   ]
  },
  {
   "cell_type": "markdown",
   "id": "c4c605bb",
   "metadata": {},
   "source": [
    "### Pattern 13"
   ]
  },
  {
   "cell_type": "code",
   "execution_count": 13,
   "id": "94f76031",
   "metadata": {},
   "outputs": [
    {
     "name": "stdout",
     "output_type": "stream",
     "text": [
      "* * * * *\n",
      "  * * * *\n",
      "    * * *\n",
      "      * *\n",
      "        *\n",
      "      * *\n",
      "    * * *\n",
      "  * * * *\n",
      "* * * * *\n"
     ]
    }
   ],
   "source": [
    "x=[]\n",
    "for i in range(5):\n",
    "    x.append('*')\n",
    "\n",
    "for i in range(9):\n",
    "    if i<4:\n",
    "        print(*x)\n",
    "        x.pop(i)\n",
    "        x.insert(i,' ')\n",
    "    else:\n",
    "        print(*x)\n",
    "        x.pop(0)\n",
    "        x.append('*')"
   ]
  },
  {
   "cell_type": "markdown",
   "id": "56349b3c",
   "metadata": {},
   "source": [
    "### Pattern 14"
   ]
  },
  {
   "cell_type": "code",
   "execution_count": 14,
   "id": "9b33b073",
   "metadata": {},
   "outputs": [
    {
     "name": "stdout",
     "output_type": "stream",
     "text": [
      "* * * * * * * * *\n",
      "  * * * * * * *  \n",
      "    * * * * *    \n",
      "      * * *      \n",
      "        *        \n",
      "      * * *      \n",
      "    * * * * *    \n",
      "  * * * * * * *  \n",
      "* * * * * * * * *\n"
     ]
    }
   ],
   "source": [
    "x=[]\n",
    "for i in range(9):\n",
    "    x.append('*')\n",
    "    \n",
    "\n",
    "\n",
    "    \n",
    "for i in range(9):\n",
    "    if i<4:\n",
    "        print(*x)\n",
    "        x.pop(i)\n",
    "        x.insert(i,' ')\n",
    "        x.pop(8-i)\n",
    "        x.insert(8-i,' ')\n",
    "        \n",
    "    else :\n",
    "        i=i-4\n",
    "        x.pop(4-i)\n",
    "        x.insert(4-i,'*')\n",
    "        x.pop(4+i)\n",
    "        x.insert(4+i,'*')\n",
    "        print(*x)"
   ]
  },
  {
   "cell_type": "markdown",
   "id": "008a748e",
   "metadata": {},
   "source": [
    "### Pattern 15"
   ]
  },
  {
   "cell_type": "code",
   "execution_count": 15,
   "id": "338b2311",
   "metadata": {},
   "outputs": [
    {
     "name": "stdout",
     "output_type": "stream",
     "text": [
      "*\n",
      "* *\n",
      "*   *\n",
      "*     *\n",
      "* * * * *\n"
     ]
    }
   ],
   "source": [
    "x=[]\n",
    "\n",
    "for i in range(5):\n",
    "    if i==0:\n",
    "        x.append('*')\n",
    "        print(*x)\n",
    "    elif i==1:\n",
    "        x.append('*')\n",
    "        print(*x)\n",
    "    elif 1 < i < 4:\n",
    "        x.insert(1,' ')\n",
    "        print(*x)\n",
    "    else:\n",
    "        x.pop(1)\n",
    "        x.pop(1)\n",
    "        x.pop(1)\n",
    "        x.insert(1,'*')\n",
    "        x.insert(1,'*')\n",
    "        x.insert(1,'*')\n",
    "        x.insert(1,'*')\n",
    "        print(*x)"
   ]
  },
  {
   "cell_type": "markdown",
   "id": "f90c574d",
   "metadata": {},
   "source": [
    "### Pattern 16"
   ]
  },
  {
   "cell_type": "code",
   "execution_count": 16,
   "id": "7ce0d003",
   "metadata": {},
   "outputs": [
    {
     "name": "stdout",
     "output_type": "stream",
     "text": [
      "         \n",
      "        *\n",
      "      * *\n",
      "    *   *\n",
      "  *     *\n",
      "* * * * *\n"
     ]
    }
   ],
   "source": [
    "x=[]\n",
    "for i in range(5):\n",
    "    x.append(' ')\n",
    "print(*x)\n",
    "\n",
    "for i in range(5):\n",
    "    if i==0:\n",
    "        x.pop(4)\n",
    "        x.append('*')\n",
    "        print(*x)\n",
    "    elif i==1:\n",
    "        x.pop(0)\n",
    "        x.insert(3,'*')\n",
    "        print(*x)\n",
    "    elif 1 < i < 4:\n",
    "        x.pop(0)\n",
    "        x.insert(3,' ')\n",
    "        print(*x)   \n",
    "    else:\n",
    "        x.pop(0)\n",
    "        x.pop(0)\n",
    "        x.pop(0)\n",
    "        x.pop(0)\n",
    "        x.insert(1,'*')\n",
    "        x.insert(1,'*')\n",
    "        x.insert(1,'*')\n",
    "        x.insert(1,'*')\n",
    "        print(*x)   "
   ]
  },
  {
   "cell_type": "code",
   "execution_count": null,
   "id": "d299ea05",
   "metadata": {},
   "outputs": [],
   "source": []
  }
 ],
 "metadata": {
  "kernelspec": {
   "display_name": "Python 3",
   "language": "python",
   "name": "python3"
  },
  "language_info": {
   "codemirror_mode": {
    "name": "ipython",
    "version": 3
   },
   "file_extension": ".py",
   "mimetype": "text/x-python",
   "name": "python",
   "nbconvert_exporter": "python",
   "pygments_lexer": "ipython3",
   "version": "3.8.8"
  }
 },
 "nbformat": 4,
 "nbformat_minor": 5
}
